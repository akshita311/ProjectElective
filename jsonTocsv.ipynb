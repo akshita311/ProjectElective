{
 "cells": [
  {
   "cell_type": "code",
   "execution_count": null,
   "metadata": {
    "scrolled": true
   },
   "outputs": [],
   "source": [
    "import json\n",
    "\n",
    "with open('Snptel.json','r') as data:\n",
    "    d=data.read()"
   ]
  },
  {
   "cell_type": "code",
   "execution_count": 113,
   "metadata": {},
   "outputs": [
    {
     "data": {
      "text/plain": [
       "'{u\\'_self\\': u\\'dbs/XXwFAA==/colls/XXwFALRR2QA=/docs/XXwFALRR2QABAAAAAAAAAA==/\\', u\\'upload_date\\': u\\'20171204\\', u\\'creator\\': None, u\\'_rid\\': u\\'XXwFALRR2QABAAAAAAAAAA==\\', u\\'like_count\\': 0, u\\'duration\\': 254, u\\'fulltitle\\': u\\'Introduction - Fundamentals Of Combustion (Part 1) - Prof.D.P. Mishra\\', u\\'id\\': u\\'848cd457-a1e2-42f1-85a0-65fd562e288b\\', u\\'discipline\\': u\\'Aerospace\\', u\\'view_count\\': 291, u\\'playlist\\': None, u\\'title\\': u\\'Introduction - Fundamentals Of Combustion (Part 1) - Prof.D.P. Mishra\\', u\\'courseid\\': u\\'Jan2018_1\\', u\\'videoid\\': u\\'s57q7CiWrT8\\', u\\'thumbnail\\': u\\'https://i.ytimg.com/vi/s57q7CiWrT8/maxresdefault.jpg\\', u\\'description\\': u\\'\\', u\\'tags\\': [], u\\'coursename\\': u\\'Fundamentals Of Combustion (Part 1)\\', u\\'_ts\\': 1516375689, u\\'categories\\': [u\\'People & Blogs\\'], u\\'tableofcontent\\': [], u\\'_attachments\\': u\\'attachments/\\', u\\'phrasecloud\\': [], u\\'_etag\\': u\\'\"cb004023-0000-0000-0000-5a620e890000\"\\'}'"
      ]
     },
     "execution_count": 113,
     "metadata": {},
     "output_type": "execute_result"
    }
   ],
   "source": [
    "ar=[]\n",
    "j=0\n",
    "a=len(d)\n",
    "for i in range(a):\n",
    "    x=\"\"\n",
    "    if d[i]==\"{\":\n",
    "        while d[i]!=\"}\":\n",
    "            x+=d[i]\n",
    "            i=i+1\n",
    "        x+=\"}\" \n",
    "       \n",
    "        ar.append(x)"
   ]
  },
  {
   "cell_type": "code",
   "execution_count": 112,
   "metadata": {},
   "outputs": [],
   "source": [
    "import ast\n",
    "l=len(ar)\n",
    "for i in range(l):\n",
    "    x=ast.literal_eval(ar[i])\n",
    "    convert_csv(x,i)"
   ]
  },
  {
   "cell_type": "code",
   "execution_count": 111,
   "metadata": {},
   "outputs": [],
   "source": [
    "import csv\n",
    "def convert_csv(x,i):\n",
    "    toCSV = [x]\n",
    "    keys = toCSV[0].keys()\n",
    "    with open('nptel.csv', 'a') as output_file:\n",
    "        dict_writer = csv.DictWriter(output_file, keys)\n",
    "        if i==0:\n",
    "            dict_writer.writeheader()\n",
    "        dict_writer.writerows(toCSV)"
   ]
  },
  {
   "cell_type": "code",
   "execution_count": null,
   "metadata": {},
   "outputs": [],
   "source": []
  },
  {
   "cell_type": "code",
   "execution_count": null,
   "metadata": {},
   "outputs": [],
   "source": []
  }
 ],
 "metadata": {
  "kernelspec": {
   "display_name": "Python 3",
   "language": "python",
   "name": "python3"
  },
  "language_info": {
   "codemirror_mode": {
    "name": "ipython",
    "version": 3
   },
   "file_extension": ".py",
   "mimetype": "text/x-python",
   "name": "python",
   "nbconvert_exporter": "python",
   "pygments_lexer": "ipython3",
   "version": "3.5.2"
  }
 },
 "nbformat": 4,
 "nbformat_minor": 2
}
